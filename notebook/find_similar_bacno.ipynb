{
 "cells": [
  {
   "cell_type": "code",
   "execution_count": 3,
   "metadata": {},
   "outputs": [],
   "source": [
    "import pandas as pd\n",
    "df = pd.read_csv(\"../fraud_detection/features/cano_latent_features_w_locdt.csv\")"
   ]
  },
  {
   "cell_type": "code",
   "execution_count": 36,
   "metadata": {},
   "outputs": [
    {
     "data": {
      "text/html": [
       "<div>\n",
       "<style scoped>\n",
       "    .dataframe tbody tr th:only-of-type {\n",
       "        vertical-align: middle;\n",
       "    }\n",
       "\n",
       "    .dataframe tbody tr th {\n",
       "        vertical-align: top;\n",
       "    }\n",
       "\n",
       "    .dataframe thead th {\n",
       "        text-align: right;\n",
       "    }\n",
       "</style>\n",
       "<table border=\"1\" class=\"dataframe\">\n",
       "  <thead>\n",
       "    <tr style=\"text-align: right;\">\n",
       "      <th></th>\n",
       "      <th>cano</th>\n",
       "      <th>cano_latent_features_0_w_locdt</th>\n",
       "      <th>cano_latent_features_1_w_locdt</th>\n",
       "      <th>cano_latent_features_2_w_locdt</th>\n",
       "      <th>cano_latent_features_3_w_locdt</th>\n",
       "      <th>cano_latent_features_4_w_locdt</th>\n",
       "      <th>cano_latent_features_5_w_locdt</th>\n",
       "      <th>cano_latent_features_6_w_locdt</th>\n",
       "      <th>cano_latent_features_7_w_locdt</th>\n",
       "      <th>cano_latent_features_8_w_locdt</th>\n",
       "      <th>cano_latent_features_9_w_locdt</th>\n",
       "    </tr>\n",
       "  </thead>\n",
       "  <tbody>\n",
       "    <tr>\n",
       "      <td>0</td>\n",
       "      <td>0</td>\n",
       "      <td>-0.049072</td>\n",
       "      <td>-0.013775</td>\n",
       "      <td>0.025894</td>\n",
       "      <td>0.046417</td>\n",
       "      <td>0.023849</td>\n",
       "      <td>-0.043796</td>\n",
       "      <td>-0.035765</td>\n",
       "      <td>-0.020814</td>\n",
       "      <td>-0.017506</td>\n",
       "      <td>0.043266</td>\n",
       "    </tr>\n",
       "    <tr>\n",
       "      <td>1</td>\n",
       "      <td>1</td>\n",
       "      <td>-0.017714</td>\n",
       "      <td>-0.048197</td>\n",
       "      <td>0.019911</td>\n",
       "      <td>0.018107</td>\n",
       "      <td>-0.036139</td>\n",
       "      <td>-0.031388</td>\n",
       "      <td>0.048264</td>\n",
       "      <td>0.042239</td>\n",
       "      <td>-0.023020</td>\n",
       "      <td>-0.040990</td>\n",
       "    </tr>\n",
       "    <tr>\n",
       "      <td>2</td>\n",
       "      <td>2</td>\n",
       "      <td>0.012365</td>\n",
       "      <td>-0.012020</td>\n",
       "      <td>-0.026539</td>\n",
       "      <td>0.045158</td>\n",
       "      <td>-0.021347</td>\n",
       "      <td>0.011109</td>\n",
       "      <td>0.018828</td>\n",
       "      <td>0.031639</td>\n",
       "      <td>-0.026136</td>\n",
       "      <td>0.027793</td>\n",
       "    </tr>\n",
       "    <tr>\n",
       "      <td>3</td>\n",
       "      <td>3</td>\n",
       "      <td>-0.020406</td>\n",
       "      <td>-0.008617</td>\n",
       "      <td>-0.026383</td>\n",
       "      <td>0.028594</td>\n",
       "      <td>0.000897</td>\n",
       "      <td>-0.006669</td>\n",
       "      <td>0.014379</td>\n",
       "      <td>-0.024027</td>\n",
       "      <td>-0.004063</td>\n",
       "      <td>0.000567</td>\n",
       "    </tr>\n",
       "    <tr>\n",
       "      <td>4</td>\n",
       "      <td>4</td>\n",
       "      <td>-0.008364</td>\n",
       "      <td>0.029561</td>\n",
       "      <td>0.038521</td>\n",
       "      <td>0.029585</td>\n",
       "      <td>-0.021218</td>\n",
       "      <td>-0.039518</td>\n",
       "      <td>0.003059</td>\n",
       "      <td>0.040711</td>\n",
       "      <td>-0.001006</td>\n",
       "      <td>-0.047131</td>\n",
       "    </tr>\n",
       "    <tr>\n",
       "      <td>...</td>\n",
       "      <td>...</td>\n",
       "      <td>...</td>\n",
       "      <td>...</td>\n",
       "      <td>...</td>\n",
       "      <td>...</td>\n",
       "      <td>...</td>\n",
       "      <td>...</td>\n",
       "      <td>...</td>\n",
       "      <td>...</td>\n",
       "      <td>...</td>\n",
       "      <td>...</td>\n",
       "    </tr>\n",
       "    <tr>\n",
       "      <td>212453</td>\n",
       "      <td>213569</td>\n",
       "      <td>-0.005226</td>\n",
       "      <td>0.038959</td>\n",
       "      <td>0.028441</td>\n",
       "      <td>-0.016234</td>\n",
       "      <td>0.018458</td>\n",
       "      <td>0.046184</td>\n",
       "      <td>-0.024196</td>\n",
       "      <td>0.022301</td>\n",
       "      <td>-0.007459</td>\n",
       "      <td>0.002016</td>\n",
       "    </tr>\n",
       "    <tr>\n",
       "      <td>212454</td>\n",
       "      <td>213570</td>\n",
       "      <td>0.037077</td>\n",
       "      <td>0.034390</td>\n",
       "      <td>0.011478</td>\n",
       "      <td>-0.037363</td>\n",
       "      <td>-0.005247</td>\n",
       "      <td>-0.046136</td>\n",
       "      <td>0.047353</td>\n",
       "      <td>-0.049046</td>\n",
       "      <td>0.021330</td>\n",
       "      <td>0.013685</td>\n",
       "    </tr>\n",
       "    <tr>\n",
       "      <td>212455</td>\n",
       "      <td>213571</td>\n",
       "      <td>0.018611</td>\n",
       "      <td>-0.044199</td>\n",
       "      <td>-0.046502</td>\n",
       "      <td>0.004002</td>\n",
       "      <td>0.034136</td>\n",
       "      <td>0.043337</td>\n",
       "      <td>0.029415</td>\n",
       "      <td>0.000856</td>\n",
       "      <td>-0.049634</td>\n",
       "      <td>-0.001171</td>\n",
       "    </tr>\n",
       "    <tr>\n",
       "      <td>212456</td>\n",
       "      <td>213572</td>\n",
       "      <td>-0.037779</td>\n",
       "      <td>0.020792</td>\n",
       "      <td>-0.005175</td>\n",
       "      <td>0.020790</td>\n",
       "      <td>0.006161</td>\n",
       "      <td>0.044278</td>\n",
       "      <td>0.041189</td>\n",
       "      <td>-0.009014</td>\n",
       "      <td>-0.031044</td>\n",
       "      <td>-0.007402</td>\n",
       "    </tr>\n",
       "    <tr>\n",
       "      <td>212457</td>\n",
       "      <td>213575</td>\n",
       "      <td>0.012533</td>\n",
       "      <td>-0.011569</td>\n",
       "      <td>-0.021849</td>\n",
       "      <td>0.033522</td>\n",
       "      <td>-0.028810</td>\n",
       "      <td>-0.032445</td>\n",
       "      <td>0.043730</td>\n",
       "      <td>0.013073</td>\n",
       "      <td>0.029130</td>\n",
       "      <td>-0.015392</td>\n",
       "    </tr>\n",
       "  </tbody>\n",
       "</table>\n",
       "<p>212458 rows × 11 columns</p>\n",
       "</div>"
      ],
      "text/plain": [
       "          cano  cano_latent_features_0_w_locdt  \\\n",
       "0            0                       -0.049072   \n",
       "1            1                       -0.017714   \n",
       "2            2                        0.012365   \n",
       "3            3                       -0.020406   \n",
       "4            4                       -0.008364   \n",
       "...        ...                             ...   \n",
       "212453  213569                       -0.005226   \n",
       "212454  213570                        0.037077   \n",
       "212455  213571                        0.018611   \n",
       "212456  213572                       -0.037779   \n",
       "212457  213575                        0.012533   \n",
       "\n",
       "        cano_latent_features_1_w_locdt  cano_latent_features_2_w_locdt  \\\n",
       "0                            -0.013775                        0.025894   \n",
       "1                            -0.048197                        0.019911   \n",
       "2                            -0.012020                       -0.026539   \n",
       "3                            -0.008617                       -0.026383   \n",
       "4                             0.029561                        0.038521   \n",
       "...                                ...                             ...   \n",
       "212453                        0.038959                        0.028441   \n",
       "212454                        0.034390                        0.011478   \n",
       "212455                       -0.044199                       -0.046502   \n",
       "212456                        0.020792                       -0.005175   \n",
       "212457                       -0.011569                       -0.021849   \n",
       "\n",
       "        cano_latent_features_3_w_locdt  cano_latent_features_4_w_locdt  \\\n",
       "0                             0.046417                        0.023849   \n",
       "1                             0.018107                       -0.036139   \n",
       "2                             0.045158                       -0.021347   \n",
       "3                             0.028594                        0.000897   \n",
       "4                             0.029585                       -0.021218   \n",
       "...                                ...                             ...   \n",
       "212453                       -0.016234                        0.018458   \n",
       "212454                       -0.037363                       -0.005247   \n",
       "212455                        0.004002                        0.034136   \n",
       "212456                        0.020790                        0.006161   \n",
       "212457                        0.033522                       -0.028810   \n",
       "\n",
       "        cano_latent_features_5_w_locdt  cano_latent_features_6_w_locdt  \\\n",
       "0                            -0.043796                       -0.035765   \n",
       "1                            -0.031388                        0.048264   \n",
       "2                             0.011109                        0.018828   \n",
       "3                            -0.006669                        0.014379   \n",
       "4                            -0.039518                        0.003059   \n",
       "...                                ...                             ...   \n",
       "212453                        0.046184                       -0.024196   \n",
       "212454                       -0.046136                        0.047353   \n",
       "212455                        0.043337                        0.029415   \n",
       "212456                        0.044278                        0.041189   \n",
       "212457                       -0.032445                        0.043730   \n",
       "\n",
       "        cano_latent_features_7_w_locdt  cano_latent_features_8_w_locdt  \\\n",
       "0                            -0.020814                       -0.017506   \n",
       "1                             0.042239                       -0.023020   \n",
       "2                             0.031639                       -0.026136   \n",
       "3                            -0.024027                       -0.004063   \n",
       "4                             0.040711                       -0.001006   \n",
       "...                                ...                             ...   \n",
       "212453                        0.022301                       -0.007459   \n",
       "212454                       -0.049046                        0.021330   \n",
       "212455                        0.000856                       -0.049634   \n",
       "212456                       -0.009014                       -0.031044   \n",
       "212457                        0.013073                        0.029130   \n",
       "\n",
       "        cano_latent_features_9_w_locdt  \n",
       "0                             0.043266  \n",
       "1                            -0.040990  \n",
       "2                             0.027793  \n",
       "3                             0.000567  \n",
       "4                            -0.047131  \n",
       "...                                ...  \n",
       "212453                        0.002016  \n",
       "212454                        0.013685  \n",
       "212455                       -0.001171  \n",
       "212456                       -0.007402  \n",
       "212457                       -0.015392  \n",
       "\n",
       "[212458 rows x 11 columns]"
      ]
     },
     "execution_count": 36,
     "metadata": {},
     "output_type": "execute_result"
    }
   ],
   "source": [
    "df"
   ]
  },
  {
   "cell_type": "code",
   "execution_count": 10,
   "metadata": {},
   "outputs": [
    {
     "data": {
      "text/plain": [
       "array([[-0.0490717 ],\n",
       "       [-0.01377471],\n",
       "       [ 0.02589404],\n",
       "       [ 0.04641731],\n",
       "       [ 0.02384881],\n",
       "       [-0.04379578],\n",
       "       [-0.0357653 ],\n",
       "       [-0.0208135 ],\n",
       "       [-0.01750582],\n",
       "       [ 0.04326621]])"
      ]
     },
     "execution_count": 10,
     "metadata": {},
     "output_type": "execute_result"
    }
   ],
   "source": [
    "df.values[0,1:].reshape(-1, 1)"
   ]
  },
  {
   "cell_type": "code",
   "execution_count": 7,
   "metadata": {},
   "outputs": [],
   "source": [
    "from sklearn.metrics.pairwise import cosine_similarity"
   ]
  },
  {
   "cell_type": "code",
   "execution_count": 17,
   "metadata": {},
   "outputs": [
    {
     "data": {
      "text/plain": [
       "array([[ 1.,  1., -1., -1., -1.,  1.,  1.,  1.,  1., -1.],\n",
       "       [ 1.,  1., -1., -1., -1.,  1.,  1.,  1.,  1., -1.],\n",
       "       [-1., -1.,  1.,  1.,  1., -1., -1., -1., -1.,  1.],\n",
       "       [-1., -1.,  1.,  1.,  1., -1., -1., -1., -1.,  1.],\n",
       "       [-1., -1.,  1.,  1.,  1., -1., -1., -1., -1.,  1.],\n",
       "       [ 1.,  1., -1., -1., -1.,  1.,  1.,  1.,  1., -1.],\n",
       "       [ 1.,  1., -1., -1., -1.,  1.,  1.,  1.,  1., -1.],\n",
       "       [ 1.,  1., -1., -1., -1.,  1.,  1.,  1.,  1., -1.],\n",
       "       [ 1.,  1., -1., -1., -1.,  1.,  1.,  1.,  1., -1.],\n",
       "       [-1., -1.,  1.,  1.,  1., -1., -1., -1., -1.,  1.]])"
      ]
     },
     "execution_count": 17,
     "metadata": {},
     "output_type": "execute_result"
    }
   ],
   "source": [
    "cosine_similarity(df.values[0,1:].reshape(-1, 1),df.values[0,1:].reshape(-1, 1))"
   ]
  },
  {
   "cell_type": "code",
   "execution_count": 23,
   "metadata": {},
   "outputs": [
    {
     "data": {
      "text/plain": [
       "0.6277214967644507"
      ]
     },
     "execution_count": 23,
     "metadata": {},
     "output_type": "execute_result"
    }
   ],
   "source": [
    "from scipy.spatial.distance import cosine\n",
    "cosine(df.values[0,1:],df.values[3,1:])"
   ]
  },
  {
   "cell_type": "code",
   "execution_count": 35,
   "metadata": {},
   "outputs": [
    {
     "ename": "ValueError",
     "evalue": "Input vector should be 1-D.",
     "output_type": "error",
     "traceback": [
      "\u001b[0;31m-------------------------------------------------------------------\u001b[0m",
      "\u001b[0;31mValueError\u001b[0m                        Traceback (most recent call last)",
      "\u001b[0;32m<ipython-input-35-f87bf594f450>\u001b[0m in \u001b[0;36m<module>\u001b[0;34m\u001b[0m\n\u001b[0;32m----> 1\u001b[0;31m \u001b[0mcosine\u001b[0m\u001b[0;34m(\u001b[0m\u001b[0mdf\u001b[0m\u001b[0;34m.\u001b[0m\u001b[0mvalues\u001b[0m\u001b[0;34m[\u001b[0m\u001b[0;36m0\u001b[0m\u001b[0;34m,\u001b[0m\u001b[0;36m1\u001b[0m\u001b[0;34m:\u001b[0m\u001b[0;34m]\u001b[0m\u001b[0;34m,\u001b[0m\u001b[0mdf\u001b[0m\u001b[0;34m.\u001b[0m\u001b[0mvalues\u001b[0m\u001b[0;34m[\u001b[0m\u001b[0;36m2\u001b[0m\u001b[0;34m:\u001b[0m\u001b[0;36m5\u001b[0m\u001b[0;34m,\u001b[0m\u001b[0;36m1\u001b[0m\u001b[0;34m:\u001b[0m\u001b[0;34m]\u001b[0m\u001b[0;34m)\u001b[0m\u001b[0;34m\u001b[0m\u001b[0m\n\u001b[0m",
      "\u001b[0;32m~/.pyenv/versions/3.6.5/envs/deepts/lib/python3.6/site-packages/scipy/spatial/distance.py\u001b[0m in \u001b[0;36mcosine\u001b[0;34m(u, v, w)\u001b[0m\n\u001b[1;32m    764\u001b[0m     \u001b[0;31m# cosine distance is also referred to as 'uncentered correlation',\u001b[0m\u001b[0;34m\u001b[0m\u001b[0;34m\u001b[0m\u001b[0m\n\u001b[1;32m    765\u001b[0m     \u001b[0;31m#   or 'reflective correlation'\u001b[0m\u001b[0;34m\u001b[0m\u001b[0;34m\u001b[0m\u001b[0m\n\u001b[0;32m--> 766\u001b[0;31m     \u001b[0;32mreturn\u001b[0m \u001b[0mcorrelation\u001b[0m\u001b[0;34m(\u001b[0m\u001b[0mu\u001b[0m\u001b[0;34m,\u001b[0m \u001b[0mv\u001b[0m\u001b[0;34m,\u001b[0m \u001b[0mw\u001b[0m\u001b[0;34m=\u001b[0m\u001b[0mw\u001b[0m\u001b[0;34m,\u001b[0m \u001b[0mcentered\u001b[0m\u001b[0;34m=\u001b[0m\u001b[0;32mFalse\u001b[0m\u001b[0;34m)\u001b[0m\u001b[0;34m\u001b[0m\u001b[0m\n\u001b[0m\u001b[1;32m    767\u001b[0m \u001b[0;34m\u001b[0m\u001b[0m\n\u001b[1;32m    768\u001b[0m \u001b[0;34m\u001b[0m\u001b[0m\n",
      "\u001b[0;32m~/.pyenv/versions/3.6.5/envs/deepts/lib/python3.6/site-packages/scipy/spatial/distance.py\u001b[0m in \u001b[0;36mcorrelation\u001b[0;34m(u, v, w, centered)\u001b[0m\n\u001b[1;32m    707\u001b[0m     \"\"\"\n\u001b[1;32m    708\u001b[0m     \u001b[0mu\u001b[0m \u001b[0;34m=\u001b[0m \u001b[0m_validate_vector\u001b[0m\u001b[0;34m(\u001b[0m\u001b[0mu\u001b[0m\u001b[0;34m)\u001b[0m\u001b[0;34m\u001b[0m\u001b[0m\n\u001b[0;32m--> 709\u001b[0;31m     \u001b[0mv\u001b[0m \u001b[0;34m=\u001b[0m \u001b[0m_validate_vector\u001b[0m\u001b[0;34m(\u001b[0m\u001b[0mv\u001b[0m\u001b[0;34m)\u001b[0m\u001b[0;34m\u001b[0m\u001b[0m\n\u001b[0m\u001b[1;32m    710\u001b[0m     \u001b[0;32mif\u001b[0m \u001b[0mw\u001b[0m \u001b[0;32mis\u001b[0m \u001b[0;32mnot\u001b[0m \u001b[0;32mNone\u001b[0m\u001b[0;34m:\u001b[0m\u001b[0;34m\u001b[0m\u001b[0m\n\u001b[1;32m    711\u001b[0m         \u001b[0mw\u001b[0m \u001b[0;34m=\u001b[0m \u001b[0m_validate_weights\u001b[0m\u001b[0;34m(\u001b[0m\u001b[0mw\u001b[0m\u001b[0;34m)\u001b[0m\u001b[0;34m\u001b[0m\u001b[0m\n",
      "\u001b[0;32m~/.pyenv/versions/3.6.5/envs/deepts/lib/python3.6/site-packages/scipy/spatial/distance.py\u001b[0m in \u001b[0;36m_validate_vector\u001b[0;34m(u, dtype)\u001b[0m\n\u001b[1;32m    336\u001b[0m     \u001b[0mu\u001b[0m \u001b[0;34m=\u001b[0m \u001b[0mnp\u001b[0m\u001b[0;34m.\u001b[0m\u001b[0matleast_1d\u001b[0m\u001b[0;34m(\u001b[0m\u001b[0mu\u001b[0m\u001b[0;34m)\u001b[0m\u001b[0;34m\u001b[0m\u001b[0m\n\u001b[1;32m    337\u001b[0m     \u001b[0;32mif\u001b[0m \u001b[0mu\u001b[0m\u001b[0;34m.\u001b[0m\u001b[0mndim\u001b[0m \u001b[0;34m>\u001b[0m \u001b[0;36m1\u001b[0m\u001b[0;34m:\u001b[0m\u001b[0;34m\u001b[0m\u001b[0m\n\u001b[0;32m--> 338\u001b[0;31m         \u001b[0;32mraise\u001b[0m \u001b[0mValueError\u001b[0m\u001b[0;34m(\u001b[0m\u001b[0;34m\"Input vector should be 1-D.\"\u001b[0m\u001b[0;34m)\u001b[0m\u001b[0;34m\u001b[0m\u001b[0m\n\u001b[0m\u001b[1;32m    339\u001b[0m     \u001b[0;32mreturn\u001b[0m \u001b[0mu\u001b[0m\u001b[0;34m\u001b[0m\u001b[0m\n\u001b[1;32m    340\u001b[0m \u001b[0;34m\u001b[0m\u001b[0m\n",
      "\u001b[0;31mValueError\u001b[0m: Input vector should be 1-D."
     ]
    }
   ],
   "source": [
    "cosine(df.values[0,1:],df.values[2:5,1:])"
   ]
  },
  {
   "cell_type": "code",
   "execution_count": 27,
   "metadata": {},
   "outputs": [
    {
     "ename": "KeyboardInterrupt",
     "evalue": "",
     "output_type": "error",
     "traceback": [
      "\u001b[0;31m-------------------------------------------------------------------\u001b[0m",
      "\u001b[0;31mKeyboardInterrupt\u001b[0m                 Traceback (most recent call last)",
      "\u001b[0;32m<ipython-input-27-54501c29f139>\u001b[0m in \u001b[0;36m<module>\u001b[0;34m\u001b[0m\n\u001b[1;32m      2\u001b[0m     \u001b[0mtmp\u001b[0m \u001b[0;34m=\u001b[0m \u001b[0;34m[\u001b[0m\u001b[0;34m]\u001b[0m\u001b[0;34m\u001b[0m\u001b[0m\n\u001b[1;32m      3\u001b[0m     \u001b[0;32mfor\u001b[0m \u001b[0mj\u001b[0m \u001b[0;32min\u001b[0m \u001b[0mrange\u001b[0m\u001b[0;34m(\u001b[0m\u001b[0mlen\u001b[0m\u001b[0;34m(\u001b[0m\u001b[0mdf\u001b[0m\u001b[0;34m)\u001b[0m\u001b[0;34m)\u001b[0m\u001b[0;34m:\u001b[0m\u001b[0;34m\u001b[0m\u001b[0m\n\u001b[0;32m----> 4\u001b[0;31m         \u001b[0mcos\u001b[0m \u001b[0;34m=\u001b[0m \u001b[0mcosine\u001b[0m\u001b[0;34m(\u001b[0m\u001b[0mdf\u001b[0m\u001b[0;34m.\u001b[0m\u001b[0mvalues\u001b[0m\u001b[0;34m[\u001b[0m\u001b[0mi\u001b[0m\u001b[0;34m,\u001b[0m\u001b[0;36m1\u001b[0m\u001b[0;34m:\u001b[0m\u001b[0;34m]\u001b[0m\u001b[0;34m,\u001b[0m\u001b[0mdf\u001b[0m\u001b[0;34m.\u001b[0m\u001b[0mvalues\u001b[0m\u001b[0;34m[\u001b[0m\u001b[0mj\u001b[0m\u001b[0;34m,\u001b[0m\u001b[0;36m1\u001b[0m\u001b[0;34m:\u001b[0m\u001b[0;34m]\u001b[0m\u001b[0;34m)\u001b[0m\u001b[0;34m\u001b[0m\u001b[0m\n\u001b[0m\u001b[1;32m      5\u001b[0m         \u001b[0mtmp\u001b[0m\u001b[0;34m.\u001b[0m\u001b[0mappend\u001b[0m\u001b[0;34m(\u001b[0m\u001b[0mcos\u001b[0m\u001b[0;34m)\u001b[0m\u001b[0;34m\u001b[0m\u001b[0m\n\u001b[1;32m      6\u001b[0m     \u001b[0;32mbreak\u001b[0m\u001b[0;34m\u001b[0m\u001b[0m\n",
      "\u001b[0;32m~/.pyenv/versions/3.6.5/envs/deepts/lib/python3.6/site-packages/pandas/core/generic.py\u001b[0m in \u001b[0;36mvalues\u001b[0;34m(self)\u001b[0m\n\u001b[1;32m   5441\u001b[0m         \"\"\"\n\u001b[1;32m   5442\u001b[0m         \u001b[0mself\u001b[0m\u001b[0;34m.\u001b[0m\u001b[0m_consolidate_inplace\u001b[0m\u001b[0;34m(\u001b[0m\u001b[0;34m)\u001b[0m\u001b[0;34m\u001b[0m\u001b[0m\n\u001b[0;32m-> 5443\u001b[0;31m         \u001b[0;32mreturn\u001b[0m \u001b[0mself\u001b[0m\u001b[0;34m.\u001b[0m\u001b[0m_data\u001b[0m\u001b[0;34m.\u001b[0m\u001b[0mas_array\u001b[0m\u001b[0;34m(\u001b[0m\u001b[0mtranspose\u001b[0m\u001b[0;34m=\u001b[0m\u001b[0mself\u001b[0m\u001b[0;34m.\u001b[0m\u001b[0m_AXIS_REVERSED\u001b[0m\u001b[0;34m)\u001b[0m\u001b[0;34m\u001b[0m\u001b[0m\n\u001b[0m\u001b[1;32m   5444\u001b[0m \u001b[0;34m\u001b[0m\u001b[0m\n\u001b[1;32m   5445\u001b[0m     \u001b[0;34m@\u001b[0m\u001b[0mproperty\u001b[0m\u001b[0;34m\u001b[0m\u001b[0m\n",
      "\u001b[0;32m~/.pyenv/versions/3.6.5/envs/deepts/lib/python3.6/site-packages/pandas/core/internals/managers.py\u001b[0m in \u001b[0;36mas_array\u001b[0;34m(self, transpose, items)\u001b[0m\n\u001b[1;32m    820\u001b[0m             \u001b[0marr\u001b[0m \u001b[0;34m=\u001b[0m \u001b[0mnp\u001b[0m\u001b[0;34m.\u001b[0m\u001b[0masarray\u001b[0m\u001b[0;34m(\u001b[0m\u001b[0mmgr\u001b[0m\u001b[0;34m.\u001b[0m\u001b[0mblocks\u001b[0m\u001b[0;34m[\u001b[0m\u001b[0;36m0\u001b[0m\u001b[0;34m]\u001b[0m\u001b[0;34m.\u001b[0m\u001b[0mget_values\u001b[0m\u001b[0;34m(\u001b[0m\u001b[0;34m)\u001b[0m\u001b[0;34m)\u001b[0m\u001b[0;34m\u001b[0m\u001b[0m\n\u001b[1;32m    821\u001b[0m         \u001b[0;32melse\u001b[0m\u001b[0;34m:\u001b[0m\u001b[0;34m\u001b[0m\u001b[0m\n\u001b[0;32m--> 822\u001b[0;31m             \u001b[0marr\u001b[0m \u001b[0;34m=\u001b[0m \u001b[0mmgr\u001b[0m\u001b[0;34m.\u001b[0m\u001b[0m_interleave\u001b[0m\u001b[0;34m(\u001b[0m\u001b[0;34m)\u001b[0m\u001b[0;34m\u001b[0m\u001b[0m\n\u001b[0m\u001b[1;32m    823\u001b[0m \u001b[0;34m\u001b[0m\u001b[0m\n\u001b[1;32m    824\u001b[0m         \u001b[0;32mreturn\u001b[0m \u001b[0marr\u001b[0m\u001b[0;34m.\u001b[0m\u001b[0mtranspose\u001b[0m\u001b[0;34m(\u001b[0m\u001b[0;34m)\u001b[0m \u001b[0;32mif\u001b[0m \u001b[0mtranspose\u001b[0m \u001b[0;32melse\u001b[0m \u001b[0marr\u001b[0m\u001b[0;34m\u001b[0m\u001b[0m\n",
      "\u001b[0;32m~/.pyenv/versions/3.6.5/envs/deepts/lib/python3.6/site-packages/pandas/core/internals/managers.py\u001b[0m in \u001b[0;36m_interleave\u001b[0;34m(self)\u001b[0m\n\u001b[1;32m    844\u001b[0m         \u001b[0;32mfor\u001b[0m \u001b[0mblk\u001b[0m \u001b[0;32min\u001b[0m \u001b[0mself\u001b[0m\u001b[0;34m.\u001b[0m\u001b[0mblocks\u001b[0m\u001b[0;34m:\u001b[0m\u001b[0;34m\u001b[0m\u001b[0m\n\u001b[1;32m    845\u001b[0m             \u001b[0mrl\u001b[0m \u001b[0;34m=\u001b[0m \u001b[0mblk\u001b[0m\u001b[0;34m.\u001b[0m\u001b[0mmgr_locs\u001b[0m\u001b[0;34m\u001b[0m\u001b[0m\n\u001b[0;32m--> 846\u001b[0;31m             \u001b[0mresult\u001b[0m\u001b[0;34m[\u001b[0m\u001b[0mrl\u001b[0m\u001b[0;34m.\u001b[0m\u001b[0mindexer\u001b[0m\u001b[0;34m]\u001b[0m \u001b[0;34m=\u001b[0m \u001b[0mblk\u001b[0m\u001b[0;34m.\u001b[0m\u001b[0mget_values\u001b[0m\u001b[0;34m(\u001b[0m\u001b[0mdtype\u001b[0m\u001b[0;34m)\u001b[0m\u001b[0;34m\u001b[0m\u001b[0m\n\u001b[0m\u001b[1;32m    847\u001b[0m             \u001b[0mitemmask\u001b[0m\u001b[0;34m[\u001b[0m\u001b[0mrl\u001b[0m\u001b[0;34m.\u001b[0m\u001b[0mindexer\u001b[0m\u001b[0;34m]\u001b[0m \u001b[0;34m=\u001b[0m \u001b[0;36m1\u001b[0m\u001b[0;34m\u001b[0m\u001b[0m\n\u001b[1;32m    848\u001b[0m \u001b[0;34m\u001b[0m\u001b[0m\n",
      "\u001b[0;31mKeyboardInterrupt\u001b[0m: "
     ]
    }
   ],
   "source": [
    "for i in range(len(df)):\n",
    "    tmp = []\n",
    "    for j in range(len(df)):\n",
    "        cos = cosine(df.values[i,1:],df.values[j,1:])\n",
    "        tmp.append(cos)\n",
    "    break"
   ]
  },
  {
   "cell_type": "code",
   "execution_count": 34,
   "metadata": {},
   "outputs": [
    {
     "data": {
      "text/plain": [
       "0        0.000000\n",
       "55101    0.035308\n",
       "34230    0.057551\n",
       "16731    0.057954\n",
       "40679    0.068401\n",
       "           ...   \n",
       "20116    1.887594\n",
       "42977    1.889119\n",
       "1373     1.898985\n",
       "50195    1.911785\n",
       "52142    1.928289\n",
       "Length: 56876, dtype: float64"
      ]
     },
     "execution_count": 34,
     "metadata": {},
     "output_type": "execute_result"
    }
   ],
   "source": [
    "pd.Series(tmp).sort_values()"
   ]
  },
  {
   "cell_type": "code",
   "execution_count": 38,
   "metadata": {},
   "outputs": [
    {
     "data": {
      "text/plain": [
       "11.662222222222223"
      ]
     },
     "execution_count": 38,
     "metadata": {},
     "output_type": "execute_result"
    }
   ],
   "source": [
    "41984/60/60"
   ]
  },
  {
   "cell_type": "code",
   "execution_count": null,
   "metadata": {},
   "outputs": [],
   "source": []
  }
 ],
 "metadata": {
  "kernelspec": {
   "display_name": "Python 3",
   "language": "python",
   "name": "python3"
  },
  "language_info": {
   "codemirror_mode": {
    "name": "ipython",
    "version": 3
   },
   "file_extension": ".py",
   "mimetype": "text/x-python",
   "name": "python",
   "nbconvert_exporter": "python",
   "pygments_lexer": "ipython3",
   "version": "3.6.5"
  }
 },
 "nbformat": 4,
 "nbformat_minor": 2
}
