{
 "cells": [
  {
   "cell_type": "code",
   "execution_count": 1,
   "metadata": {},
   "outputs": [],
   "source": [
    "import numpy as np\n",
    "import pandas as pd\n",
    "import sys\n",
    "sys.path.append(\"../fraud_detection/src/\")\n",
    "\n",
    "from util import s_to_time_format, string_to_datetime,hour_to_range\n",
    "from tqdm import tqdm\n",
    "\n",
    "#-----------------------------\n",
    "# load data\n",
    "#-----------------------------\n",
    "df_train = pd.read_csv(\"/data/yunrui_li/fraud/dataset/train.csv\")\n",
    "df_test = pd.read_csv(\"/data/yunrui_li/fraud/dataset/test.csv\")\n",
    "\n",
    "\n",
    "for df in [df_train, df_test]:\n",
    "    # pre-processing\n",
    "    df[\"loctm_\"] = df.loctm.astype(int).astype(str)\n",
    "    df.loctm_ = df.loctm_.apply(s_to_time_format).apply(string_to_datetime)\n",
    "    # time-related feature\n",
    "    df[\"loctm_hour_of_day\"] = df.loctm_.apply(lambda x: x.hour)\n",
    "    df[\"loctm_minute_of_hour\"] = df.loctm_.apply(lambda x: x.minute)\n",
    "    df[\"loctm_second_of_min\"] = df.loctm_.apply(lambda x: x.second)\n",
    "\n",
    "    # removed the columns no need\n",
    "    df.drop(columns = [\"loctm_\", \"loctm\"], axis = 1, inplace = True)\n"
   ]
  },
  {
   "cell_type": "code",
   "execution_count": 2,
   "metadata": {},
   "outputs": [],
   "source": [
    "gby = \"bacno\"\n",
    "# df = pd.concat([df_train, df_test], axis = 0)\n",
    "df_train.sort_values(by = [gby,\"locdt\",\"loctm_hour_of_day\",\"loctm_minute_of_hour\",\"loctm_second_of_min\"], \n",
    "                     inplace = True)\n",
    "df_test.sort_values(by = [gby,\"locdt\",\"loctm_hour_of_day\",\"loctm_minute_of_hour\",\"loctm_second_of_min\"], \n",
    "                     inplace = True)"
   ]
  },
  {
   "cell_type": "code",
   "execution_count": null,
   "metadata": {},
   "outputs": [],
   "source": []
  },
  {
   "cell_type": "code",
   "execution_count": 3,
   "metadata": {},
   "outputs": [
    {
     "data": {
      "text/html": [
       "<div>\n",
       "<style scoped>\n",
       "    .dataframe tbody tr th:only-of-type {\n",
       "        vertical-align: middle;\n",
       "    }\n",
       "\n",
       "    .dataframe tbody tr th {\n",
       "        vertical-align: top;\n",
       "    }\n",
       "\n",
       "    .dataframe thead th {\n",
       "        text-align: right;\n",
       "    }\n",
       "</style>\n",
       "<table border=\"1\" class=\"dataframe\">\n",
       "  <thead>\n",
       "    <tr style=\"text-align: right;\">\n",
       "      <th></th>\n",
       "      <th>acqic</th>\n",
       "      <th>bacno</th>\n",
       "      <th>cano</th>\n",
       "      <th>conam</th>\n",
       "      <th>contp</th>\n",
       "      <th>csmcu</th>\n",
       "      <th>ecfg</th>\n",
       "      <th>etymd</th>\n",
       "      <th>flbmk</th>\n",
       "      <th>flg_3dsmk</th>\n",
       "      <th>fraud_ind</th>\n",
       "      <th>hcefg</th>\n",
       "      <th>insfg</th>\n",
       "      <th>iterm</th>\n",
       "      <th>locdt</th>\n",
       "      <th>mcc</th>\n",
       "      <th>mchno</th>\n",
       "      <th>ovrlt</th>\n",
       "      <th>scity</th>\n",
       "      <th>stocn</th>\n",
       "      <th>stscd</th>\n",
       "      <th>txkey</th>\n",
       "      <th>loctm_hour_of_day</th>\n",
       "      <th>loctm_minute_of_hour</th>\n",
       "      <th>loctm_second_of_min</th>\n",
       "    </tr>\n",
       "  </thead>\n",
       "  <tbody>\n",
       "    <tr>\n",
       "      <td>502741</td>\n",
       "      <td>6413</td>\n",
       "      <td>1</td>\n",
       "      <td>117264</td>\n",
       "      <td>934.49</td>\n",
       "      <td>5</td>\n",
       "      <td>62</td>\n",
       "      <td>N</td>\n",
       "      <td>4</td>\n",
       "      <td>N</td>\n",
       "      <td>N</td>\n",
       "      <td>0</td>\n",
       "      <td>5</td>\n",
       "      <td>N</td>\n",
       "      <td>0</td>\n",
       "      <td>3</td>\n",
       "      <td>275</td>\n",
       "      <td>53099</td>\n",
       "      <td>N</td>\n",
       "      <td>5817</td>\n",
       "      <td>102</td>\n",
       "      <td>0</td>\n",
       "      <td>1549254</td>\n",
       "      <td>20</td>\n",
       "      <td>0</td>\n",
       "      <td>0</td>\n",
       "    </tr>\n",
       "    <tr>\n",
       "      <td>994932</td>\n",
       "      <td>6189</td>\n",
       "      <td>1</td>\n",
       "      <td>117264</td>\n",
       "      <td>939.19</td>\n",
       "      <td>5</td>\n",
       "      <td>62</td>\n",
       "      <td>Y</td>\n",
       "      <td>2</td>\n",
       "      <td>N</td>\n",
       "      <td>N</td>\n",
       "      <td>0</td>\n",
       "      <td>5</td>\n",
       "      <td>N</td>\n",
       "      <td>0</td>\n",
       "      <td>4</td>\n",
       "      <td>317</td>\n",
       "      <td>90151</td>\n",
       "      <td>N</td>\n",
       "      <td>1463</td>\n",
       "      <td>102</td>\n",
       "      <td>0</td>\n",
       "      <td>1837177</td>\n",
       "      <td>22</td>\n",
       "      <td>14</td>\n",
       "      <td>28</td>\n",
       "    </tr>\n",
       "    <tr>\n",
       "      <td>606676</td>\n",
       "      <td>6189</td>\n",
       "      <td>1</td>\n",
       "      <td>117264</td>\n",
       "      <td>1267.47</td>\n",
       "      <td>5</td>\n",
       "      <td>62</td>\n",
       "      <td>Y</td>\n",
       "      <td>2</td>\n",
       "      <td>N</td>\n",
       "      <td>N</td>\n",
       "      <td>0</td>\n",
       "      <td>5</td>\n",
       "      <td>N</td>\n",
       "      <td>0</td>\n",
       "      <td>25</td>\n",
       "      <td>317</td>\n",
       "      <td>90151</td>\n",
       "      <td>N</td>\n",
       "      <td>1463</td>\n",
       "      <td>102</td>\n",
       "      <td>0</td>\n",
       "      <td>1859385</td>\n",
       "      <td>21</td>\n",
       "      <td>26</td>\n",
       "      <td>35</td>\n",
       "    </tr>\n",
       "    <tr>\n",
       "      <td>1388156</td>\n",
       "      <td>6231</td>\n",
       "      <td>1</td>\n",
       "      <td>117264</td>\n",
       "      <td>1017.37</td>\n",
       "      <td>5</td>\n",
       "      <td>62</td>\n",
       "      <td>N</td>\n",
       "      <td>5</td>\n",
       "      <td>N</td>\n",
       "      <td>N</td>\n",
       "      <td>0</td>\n",
       "      <td>5</td>\n",
       "      <td>N</td>\n",
       "      <td>0</td>\n",
       "      <td>30</td>\n",
       "      <td>277</td>\n",
       "      <td>12726</td>\n",
       "      <td>N</td>\n",
       "      <td>5817</td>\n",
       "      <td>102</td>\n",
       "      <td>0</td>\n",
       "      <td>994333</td>\n",
       "      <td>20</td>\n",
       "      <td>9</td>\n",
       "      <td>47</td>\n",
       "    </tr>\n",
       "    <tr>\n",
       "      <td>10441</td>\n",
       "      <td>6189</td>\n",
       "      <td>1</td>\n",
       "      <td>117264</td>\n",
       "      <td>613.81</td>\n",
       "      <td>5</td>\n",
       "      <td>62</td>\n",
       "      <td>N</td>\n",
       "      <td>4</td>\n",
       "      <td>N</td>\n",
       "      <td>N</td>\n",
       "      <td>0</td>\n",
       "      <td>5</td>\n",
       "      <td>N</td>\n",
       "      <td>0</td>\n",
       "      <td>34</td>\n",
       "      <td>263</td>\n",
       "      <td>92571</td>\n",
       "      <td>N</td>\n",
       "      <td>5817</td>\n",
       "      <td>102</td>\n",
       "      <td>0</td>\n",
       "      <td>1639576</td>\n",
       "      <td>15</td>\n",
       "      <td>5</td>\n",
       "      <td>12</td>\n",
       "    </tr>\n",
       "    <tr>\n",
       "      <td>...</td>\n",
       "      <td>...</td>\n",
       "      <td>...</td>\n",
       "      <td>...</td>\n",
       "      <td>...</td>\n",
       "      <td>...</td>\n",
       "      <td>...</td>\n",
       "      <td>...</td>\n",
       "      <td>...</td>\n",
       "      <td>...</td>\n",
       "      <td>...</td>\n",
       "      <td>...</td>\n",
       "      <td>...</td>\n",
       "      <td>...</td>\n",
       "      <td>...</td>\n",
       "      <td>...</td>\n",
       "      <td>...</td>\n",
       "      <td>...</td>\n",
       "      <td>...</td>\n",
       "      <td>...</td>\n",
       "      <td>...</td>\n",
       "      <td>...</td>\n",
       "      <td>...</td>\n",
       "      <td>...</td>\n",
       "      <td>...</td>\n",
       "      <td>...</td>\n",
       "    </tr>\n",
       "    <tr>\n",
       "      <td>353575</td>\n",
       "      <td>5975</td>\n",
       "      <td>163884</td>\n",
       "      <td>211804</td>\n",
       "      <td>1119.11</td>\n",
       "      <td>5</td>\n",
       "      <td>62</td>\n",
       "      <td>N</td>\n",
       "      <td>5</td>\n",
       "      <td>N</td>\n",
       "      <td>N</td>\n",
       "      <td>0</td>\n",
       "      <td>5</td>\n",
       "      <td>N</td>\n",
       "      <td>0</td>\n",
       "      <td>65</td>\n",
       "      <td>288</td>\n",
       "      <td>88870</td>\n",
       "      <td>N</td>\n",
       "      <td>5817</td>\n",
       "      <td>102</td>\n",
       "      <td>0</td>\n",
       "      <td>1801193</td>\n",
       "      <td>15</td>\n",
       "      <td>52</td>\n",
       "      <td>56</td>\n",
       "    </tr>\n",
       "    <tr>\n",
       "      <td>1215077</td>\n",
       "      <td>6767</td>\n",
       "      <td>163884</td>\n",
       "      <td>211804</td>\n",
       "      <td>1334.91</td>\n",
       "      <td>5</td>\n",
       "      <td>62</td>\n",
       "      <td>N</td>\n",
       "      <td>5</td>\n",
       "      <td>N</td>\n",
       "      <td>N</td>\n",
       "      <td>0</td>\n",
       "      <td>5</td>\n",
       "      <td>N</td>\n",
       "      <td>0</td>\n",
       "      <td>65</td>\n",
       "      <td>247</td>\n",
       "      <td>6475</td>\n",
       "      <td>N</td>\n",
       "      <td>5817</td>\n",
       "      <td>102</td>\n",
       "      <td>0</td>\n",
       "      <td>872380</td>\n",
       "      <td>17</td>\n",
       "      <td>22</td>\n",
       "      <td>3</td>\n",
       "    </tr>\n",
       "    <tr>\n",
       "      <td>1225070</td>\n",
       "      <td>6767</td>\n",
       "      <td>163884</td>\n",
       "      <td>211804</td>\n",
       "      <td>1125.71</td>\n",
       "      <td>5</td>\n",
       "      <td>62</td>\n",
       "      <td>N</td>\n",
       "      <td>5</td>\n",
       "      <td>N</td>\n",
       "      <td>N</td>\n",
       "      <td>0</td>\n",
       "      <td>5</td>\n",
       "      <td>N</td>\n",
       "      <td>0</td>\n",
       "      <td>65</td>\n",
       "      <td>247</td>\n",
       "      <td>6475</td>\n",
       "      <td>N</td>\n",
       "      <td>5817</td>\n",
       "      <td>102</td>\n",
       "      <td>0</td>\n",
       "      <td>872476</td>\n",
       "      <td>17</td>\n",
       "      <td>55</td>\n",
       "      <td>48</td>\n",
       "    </tr>\n",
       "    <tr>\n",
       "      <td>884262</td>\n",
       "      <td>6767</td>\n",
       "      <td>163884</td>\n",
       "      <td>211804</td>\n",
       "      <td>1103.64</td>\n",
       "      <td>5</td>\n",
       "      <td>62</td>\n",
       "      <td>N</td>\n",
       "      <td>5</td>\n",
       "      <td>N</td>\n",
       "      <td>N</td>\n",
       "      <td>0</td>\n",
       "      <td>5</td>\n",
       "      <td>N</td>\n",
       "      <td>0</td>\n",
       "      <td>65</td>\n",
       "      <td>247</td>\n",
       "      <td>6475</td>\n",
       "      <td>N</td>\n",
       "      <td>5817</td>\n",
       "      <td>102</td>\n",
       "      <td>0</td>\n",
       "      <td>1658468</td>\n",
       "      <td>18</td>\n",
       "      <td>8</td>\n",
       "      <td>3</td>\n",
       "    </tr>\n",
       "    <tr>\n",
       "      <td>234321</td>\n",
       "      <td>6769</td>\n",
       "      <td>163884</td>\n",
       "      <td>211804</td>\n",
       "      <td>1194.66</td>\n",
       "      <td>5</td>\n",
       "      <td>62</td>\n",
       "      <td>Y</td>\n",
       "      <td>8</td>\n",
       "      <td>N</td>\n",
       "      <td>N</td>\n",
       "      <td>0</td>\n",
       "      <td>5</td>\n",
       "      <td>Y</td>\n",
       "      <td>1</td>\n",
       "      <td>74</td>\n",
       "      <td>247</td>\n",
       "      <td>82174</td>\n",
       "      <td>N</td>\n",
       "      <td>5817</td>\n",
       "      <td>102</td>\n",
       "      <td>0</td>\n",
       "      <td>437384</td>\n",
       "      <td>10</td>\n",
       "      <td>16</td>\n",
       "      <td>12</td>\n",
       "    </tr>\n",
       "  </tbody>\n",
       "</table>\n",
       "<p>1521787 rows × 25 columns</p>\n",
       "</div>"
      ],
      "text/plain": [
       "         acqic   bacno    cano    conam  contp  csmcu ecfg  etymd flbmk  \\\n",
       "502741    6413       1  117264   934.49      5     62    N      4     N   \n",
       "994932    6189       1  117264   939.19      5     62    Y      2     N   \n",
       "606676    6189       1  117264  1267.47      5     62    Y      2     N   \n",
       "1388156   6231       1  117264  1017.37      5     62    N      5     N   \n",
       "10441     6189       1  117264   613.81      5     62    N      4     N   \n",
       "...        ...     ...     ...      ...    ...    ...  ...    ...   ...   \n",
       "353575    5975  163884  211804  1119.11      5     62    N      5     N   \n",
       "1215077   6767  163884  211804  1334.91      5     62    N      5     N   \n",
       "1225070   6767  163884  211804  1125.71      5     62    N      5     N   \n",
       "884262    6767  163884  211804  1103.64      5     62    N      5     N   \n",
       "234321    6769  163884  211804  1194.66      5     62    Y      8     N   \n",
       "\n",
       "        flg_3dsmk  fraud_ind  hcefg insfg  iterm  locdt  mcc  mchno ovrlt  \\\n",
       "502741          N          0      5     N      0      3  275  53099     N   \n",
       "994932          N          0      5     N      0      4  317  90151     N   \n",
       "606676          N          0      5     N      0     25  317  90151     N   \n",
       "1388156         N          0      5     N      0     30  277  12726     N   \n",
       "10441           N          0      5     N      0     34  263  92571     N   \n",
       "...           ...        ...    ...   ...    ...    ...  ...    ...   ...   \n",
       "353575          N          0      5     N      0     65  288  88870     N   \n",
       "1215077         N          0      5     N      0     65  247   6475     N   \n",
       "1225070         N          0      5     N      0     65  247   6475     N   \n",
       "884262          N          0      5     N      0     65  247   6475     N   \n",
       "234321          N          0      5     Y      1     74  247  82174     N   \n",
       "\n",
       "         scity  stocn  stscd    txkey  loctm_hour_of_day  \\\n",
       "502741    5817    102      0  1549254                 20   \n",
       "994932    1463    102      0  1837177                 22   \n",
       "606676    1463    102      0  1859385                 21   \n",
       "1388156   5817    102      0   994333                 20   \n",
       "10441     5817    102      0  1639576                 15   \n",
       "...        ...    ...    ...      ...                ...   \n",
       "353575    5817    102      0  1801193                 15   \n",
       "1215077   5817    102      0   872380                 17   \n",
       "1225070   5817    102      0   872476                 17   \n",
       "884262    5817    102      0  1658468                 18   \n",
       "234321    5817    102      0   437384                 10   \n",
       "\n",
       "         loctm_minute_of_hour  loctm_second_of_min  \n",
       "502741                      0                    0  \n",
       "994932                     14                   28  \n",
       "606676                     26                   35  \n",
       "1388156                     9                   47  \n",
       "10441                       5                   12  \n",
       "...                       ...                  ...  \n",
       "353575                     52                   56  \n",
       "1215077                    22                    3  \n",
       "1225070                    55                   48  \n",
       "884262                      8                    3  \n",
       "234321                     16                   12  \n",
       "\n",
       "[1521787 rows x 25 columns]"
      ]
     },
     "execution_count": 3,
     "metadata": {},
     "output_type": "execute_result"
    }
   ],
   "source": [
    "pd.options.display.max_columns = 100\n",
    "\n",
    "df_train"
   ]
  },
  {
   "cell_type": "code",
   "execution_count": 4,
   "metadata": {},
   "outputs": [
    {
     "name": "stderr",
     "output_type": "stream",
     "text": [
      "/ldap_home/yunrui.li/.pyenv/versions/3.6.5/envs/fraud/lib/python3.6/site-packages/ipykernel_launcher.py:1: FutureWarning: Sorting because non-concatenation axis is not aligned. A future version\n",
      "of pandas will change to not sort by default.\n",
      "\n",
      "To accept the future behavior, pass 'sort=False'.\n",
      "\n",
      "To retain the current behavior and silence the warning, pass 'sort=True'.\n",
      "\n",
      "  \"\"\"Entry point for launching an IPython kernel.\n"
     ]
    }
   ],
   "source": [
    "df = pd.concat([df_train, df_test], axis = 0)"
   ]
  },
  {
   "cell_type": "code",
   "execution_count": 5,
   "metadata": {},
   "outputs": [
    {
     "data": {
      "text/plain": [
       "102783"
      ]
     },
     "execution_count": 5,
     "metadata": {},
     "output_type": "execute_result"
    }
   ],
   "source": [
    "df.mchno.nunique()"
   ]
  },
  {
   "cell_type": "code",
   "execution_count": 6,
   "metadata": {},
   "outputs": [
    {
     "data": {
      "text/plain": [
       "1117"
      ]
     },
     "execution_count": 6,
     "metadata": {},
     "output_type": "execute_result"
    }
   ],
   "source": [
    "df_train.groupby(\"bacno\").apply(lambda x: len(x)).max()"
   ]
  },
  {
   "cell_type": "code",
   "execution_count": 7,
   "metadata": {},
   "outputs": [],
   "source": [
    "from tqdm import tqdm"
   ]
  },
  {
   "cell_type": "code",
   "execution_count": 8,
   "metadata": {},
   "outputs": [
    {
     "name": "stderr",
     "output_type": "stream",
     "text": [
      "100%|██████████| 95214/95214 [01:54<00:00, 830.48it/s]\n",
      "100%|██████████| 71099/71099 [01:16<00:00, 933.11it/s]\n"
     ]
    }
   ],
   "source": [
    "\n",
    "txkey = []\n",
    "y_train = []\n",
    "x_train = []\n",
    "x_train_2 = []\n",
    "max_seq_lent = 100\n",
    "feat = [\"conam\",\"locdt\",\"loctm_hour_of_day\",\"loctm_minute_of_hour\",\"loctm_second_of_min\"]\n",
    "num_feat = len(feat)\n",
    "for _, x in tqdm(df_train.groupby(gby)):\n",
    "    txkey.append(\"_\".join([str(i) for i in x.txkey.tolist()]))\n",
    "    x1 = x[feat].values\n",
    "    x2 = x[\"mchno\"].values\n",
    "    #print (x2.shape)\n",
    "    if x1.shape[0] > 100:\n",
    "        # truncating\n",
    "        x1 = x1[:100,:]\n",
    "    else:\n",
    "        num_pad = 100-len(x1)\n",
    "        pad = np.zeros((num_pad,num_feat))\n",
    "        # padding\n",
    "        x1 = np.concatenate([x1,pad])\n",
    "\n",
    "    if x2.shape[0] > 100:\n",
    "        # truncating\n",
    "        x2 = x2[:100]\n",
    "    else:\n",
    "        num_pad = 100-len(x2)\n",
    "        pad = np.zeros((num_pad,))\n",
    "        # padding\n",
    "        x2 = np.concatenate([x2,pad])\n",
    "        \n",
    "    # label\n",
    "    if 1 in x.fraud_ind.tolist():\n",
    "        y_train.append(1)\n",
    "    else:\n",
    "        y_train.append(0)\n",
    "    # x\n",
    "    x_train.append(x1)\n",
    "    x_train_2.append(x2)\n",
    "    \n",
    "x_test = []\n",
    "txkey_test = []\n",
    "x_test_2 = []\n",
    "for _, x in tqdm(df_test.groupby(gby)):\n",
    "    txkey_test.append(\"_\".join([str(i) for i in x.txkey.tolist()]))\n",
    "    x1 = x[feat].values\n",
    "    x2 = x[\"mchno\"].values\n",
    "    if x1.shape[0] > 100:\n",
    "        # truncating\n",
    "        x1 = x1[:100,:]\n",
    "    else:\n",
    "        num_pad = 100-len(x1)\n",
    "        pad = np.zeros((num_pad,num_feat))\n",
    "        # padding\n",
    "        x1 = np.concatenate([x1,pad])\n",
    "        \n",
    "    if x2.shape[0] > 100:\n",
    "        # truncating\n",
    "        x2 = x2[:100]\n",
    "    else:\n",
    "        num_pad = 100-len(x2)\n",
    "        pad = np.zeros((num_pad,))\n",
    "        # padding\n",
    "        x2 = np.concatenate([x2,pad])\n",
    "    # x\n",
    "    x_test.append(x1)\n",
    "    x_test_2.append(x2)"
   ]
  },
  {
   "cell_type": "code",
   "execution_count": 9,
   "metadata": {},
   "outputs": [
    {
     "data": {
      "text/plain": [
       "(95214, 71099)"
      ]
     },
     "execution_count": 9,
     "metadata": {},
     "output_type": "execute_result"
    }
   ],
   "source": [
    "len(txkey),len(txkey_test)"
   ]
  },
  {
   "cell_type": "code",
   "execution_count": 10,
   "metadata": {},
   "outputs": [
    {
     "name": "stdout",
     "output_type": "stream",
     "text": [
      "True\n"
     ]
    },
    {
     "data": {
      "text/plain": [
       "(95214, 100, 5)"
      ]
     },
     "execution_count": 10,
     "metadata": {},
     "output_type": "execute_result"
    }
   ],
   "source": [
    "x_train = np.array(x_train)\n",
    "x_train_2 = np.array(x_train_2)\n",
    "\n",
    "y_train = np.array(y_train)\n",
    "x_test = np.array(x_test)\n",
    "x_test_2 = np.array(x_test_2)\n",
    "\n",
    "print (y_train.shape[0]==x_train.shape[0])\n",
    "x_train.shape"
   ]
  },
  {
   "cell_type": "code",
   "execution_count": 11,
   "metadata": {},
   "outputs": [],
   "source": [
    "np.save(\"x_train.npy\", x_train)\n",
    "np.save(\"y_train.npy\", x_train)"
   ]
  },
  {
   "cell_type": "code",
   "execution_count": 12,
   "metadata": {},
   "outputs": [],
   "source": [
    "# x_train_ = np.load(\"x_train.npy\")"
   ]
  },
  {
   "cell_type": "code",
   "execution_count": 13,
   "metadata": {},
   "outputs": [
    {
     "data": {
      "text/plain": [
       "0    0.909226\n",
       "1    0.090774\n",
       "dtype: float64"
      ]
     },
     "execution_count": 13,
     "metadata": {},
     "output_type": "execute_result"
    }
   ],
   "source": [
    "pd.Series(y_train).value_counts(normalize = True)"
   ]
  },
  {
   "cell_type": "code",
   "execution_count": 14,
   "metadata": {},
   "outputs": [
    {
     "data": {
      "text/plain": [
       "(95214, 100, 5)"
      ]
     },
     "execution_count": 14,
     "metadata": {},
     "output_type": "execute_result"
    }
   ],
   "source": [
    "x_train.shape"
   ]
  },
  {
   "cell_type": "code",
   "execution_count": 15,
   "metadata": {},
   "outputs": [
    {
     "data": {
      "text/plain": [
       "(95214, 100)"
      ]
     },
     "execution_count": 15,
     "metadata": {},
     "output_type": "execute_result"
    }
   ],
   "source": [
    "x_train_2.shape"
   ]
  },
  {
   "cell_type": "code",
   "execution_count": 16,
   "metadata": {},
   "outputs": [
    {
     "name": "stderr",
     "output_type": "stream",
     "text": [
      "Using TensorFlow backend.\n"
     ]
    },
    {
     "name": "stdout",
     "output_type": "stream",
     "text": [
      "WARNING:tensorflow:From /ldap_home/yunrui.li/.pyenv/versions/3.6.5/envs/fraud/lib/python3.6/site-packages/keras/backend/tensorflow_backend.py:541: The name tf.placeholder is deprecated. Please use tf.compat.v1.placeholder instead.\n",
      "\n",
      "main_input Tensor(\"main_input:0\", shape=(?, 100, 5), dtype=float32)\n",
      "x (?, 100, 5)\n",
      "WARNING:tensorflow:From /ldap_home/yunrui.li/.pyenv/versions/3.6.5/envs/fraud/lib/python3.6/site-packages/keras/backend/tensorflow_backend.py:66: The name tf.get_default_graph is deprecated. Please use tf.compat.v1.get_default_graph instead.\n",
      "\n",
      "WARNING:tensorflow:From /ldap_home/yunrui.li/.pyenv/versions/3.6.5/envs/fraud/lib/python3.6/site-packages/keras/backend/tensorflow_backend.py:4432: The name tf.random_uniform is deprecated. Please use tf.random.uniform instead.\n",
      "\n",
      "x2 (?, 100, 15)\n",
      "x (?, 100, 20)\n",
      "Tensor(\"lstm_out/transpose_1:0\", shape=(?, ?, 10), dtype=float32)\n",
      "WARNING:tensorflow:From /ldap_home/yunrui.li/.pyenv/versions/3.6.5/envs/fraud/lib/python3.6/site-packages/keras/optimizers.py:793: The name tf.train.Optimizer is deprecated. Please use tf.compat.v1.train.Optimizer instead.\n",
      "\n",
      "WARNING:tensorflow:From /ldap_home/yunrui.li/.pyenv/versions/3.6.5/envs/fraud/lib/python3.6/site-packages/keras/backend/tensorflow_backend.py:3657: The name tf.log is deprecated. Please use tf.math.log instead.\n",
      "\n",
      "WARNING:tensorflow:From /ldap_home/yunrui.li/.pyenv/versions/3.6.5/envs/fraud/lib/python3.6/site-packages/tensorflow/python/ops/nn_impl.py:180: add_dispatch_support.<locals>.wrapper (from tensorflow.python.ops.array_ops) is deprecated and will be removed in a future version.\n",
      "Instructions for updating:\n",
      "Use tf.where in 2.0, which has the same broadcast rule as np.where\n"
     ]
    }
   ],
   "source": [
    "import keras\n",
    "from keras.layers import Input, Embedding, LSTM, Dense\n",
    "from keras.models import Model\n",
    "import numpy as np\n",
    "np.random.seed(0)  # Set a random seed for reproducibility\n",
    "\n",
    "# Headline input: meant to receive sequences of 100 integers, between 1 and 10000.\n",
    "# Note that we can name any layer by passing it a \"name\" argument.\n",
    "main_input = Input(shape=(100,5,), dtype='float32', name='main_input')\n",
    "print (\"main_input\",main_input)\n",
    "main_input_2 = Input(shape=(100,), dtype='int32', name='main_input_2')\n",
    "x = main_input\n",
    "#x = keras.layers.concatenate([main_input])\n",
    "print (\"x\",x.shape)\n",
    "# This embedding layer will encode the input sequence\n",
    "# into a sequence of dense 512-dimensional vectors.\n",
    "#x = Embedding(output_dim=512, input_dim=10000, input_length=100)(main_input)\n",
    "x2 = Embedding(output_dim=15, input_dim=102783+500, input_length=100)(main_input_2)\n",
    "print (\"x2\",x2.shape)\n",
    "x = keras.layers.concatenate([x, x2], axis = 2)\n",
    "print (\"x\",x.shape)\n",
    "# A LSTM will transform the vector sequence into a single vector,\n",
    "# containing information about the entire sequence\n",
    "lstm_out,state_h,state_c = LSTM(10, name = \"lstm_out\", return_sequences = True, return_state = True)(x)\n",
    "#lstm_out_feature = LSTM(32, name = \"lstm_out_feature\", return_sequences = True)(x)\n",
    "print (lstm_out)\n",
    "#auxiliary_output = Dense(1, activation='sigmoid', name='aux_output')(lstm_out)\n",
    "\n",
    "#auxiliary_input = Input(shape=(5,), name='aux_input')\n",
    "\n",
    "# We stack a deep densely-connected network on top\n",
    "x = Dense(10, activation='relu',name=\"dense_one\")(state_h)\n",
    "x = Dense(5, activation='relu',name=\"dense_two\")(x)\n",
    "x = Dense(3, activation='relu',name=\"dense_three\")(x)\n",
    "\n",
    "# And finally we add the main logistic regression layer\n",
    "main_output = Dense(1, activation='sigmoid', name='main_output')(x)\n",
    "model = Model(inputs=[main_input, main_input_2], outputs=[main_output])\n",
    "model.compile(optimizer='rmsprop', \n",
    "              loss='binary_crossentropy',\n",
    "              metrics=['accuracy'],\n",
    "              loss_weights=None)"
   ]
  },
  {
   "cell_type": "code",
   "execution_count": 17,
   "metadata": {},
   "outputs": [],
   "source": [
    "# from sklearn.model_selection import train_test_split\n",
    "# x_train_, x_test_, y_train_, y_test_ = train_test_split(\n",
    "#     x_train, y_train, test_size=0.20, random_state=1030)"
   ]
  },
  {
   "cell_type": "code",
   "execution_count": 18,
   "metadata": {},
   "outputs": [],
   "source": [
    "import os\n",
    "os.environ[\"CUDA_VISIBLE_DEVICES\"] = \"0\""
   ]
  },
  {
   "cell_type": "code",
   "execution_count": 19,
   "metadata": {},
   "outputs": [
    {
     "name": "stdout",
     "output_type": "stream",
     "text": [
      "WARNING:tensorflow:From /ldap_home/yunrui.li/.pyenv/versions/3.6.5/envs/fraud/lib/python3.6/site-packages/keras/backend/tensorflow_backend.py:1033: The name tf.assign_add is deprecated. Please use tf.compat.v1.assign_add instead.\n",
      "\n",
      "Train on 76171 samples, validate on 19043 samples\n",
      "Epoch 1/10\n",
      "76171/76171 [==============================] - 345s 5ms/step - loss: 0.2901 - acc: 0.9092 - val_loss: 0.2699 - val_acc: 0.9093\n",
      "Epoch 2/10\n",
      "76171/76171 [==============================] - 359s 5ms/step - loss: 0.2700 - acc: 0.9092 - val_loss: 0.2808 - val_acc: 0.9093\n",
      "Epoch 3/10\n",
      "76171/76171 [==============================] - 386s 5ms/step - loss: 0.2795 - acc: 0.9092 - val_loss: 0.3035 - val_acc: 0.9093\n",
      "Epoch 4/10\n",
      "76160/76171 [============================>.] - ETA: 0s - loss: 0.2857 - acc: 0.9092"
     ]
    },
    {
     "ename": "KeyboardInterrupt",
     "evalue": "",
     "output_type": "error",
     "traceback": [
      "\u001b[0;31m---------------------------------------------------------------------------\u001b[0m",
      "\u001b[0;31mKeyboardInterrupt\u001b[0m                         Traceback (most recent call last)",
      "\u001b[0;32m<ipython-input-19-c693d66e645c>\u001b[0m in \u001b[0;36m<module>\u001b[0;34m\u001b[0m\n\u001b[1;32m     11\u001b[0m            \u001b[0;31m#'aux_output': additional_labels\u001b[0m\u001b[0;34m\u001b[0m\u001b[0;34m\u001b[0m\u001b[0m\n\u001b[1;32m     12\u001b[0m           },\n\u001b[0;32m---> 13\u001b[0;31m           epochs=10, batch_size=32, validation_split = 0.2)\n\u001b[0m",
      "\u001b[0;32m~/.pyenv/versions/3.6.5/envs/fraud/lib/python3.6/site-packages/keras/engine/training.py\u001b[0m in \u001b[0;36mfit\u001b[0;34m(self, x, y, batch_size, epochs, verbose, callbacks, validation_split, validation_data, shuffle, class_weight, sample_weight, initial_epoch, steps_per_epoch, validation_steps, validation_freq, max_queue_size, workers, use_multiprocessing, **kwargs)\u001b[0m\n\u001b[1;32m   1176\u001b[0m                                         \u001b[0msteps_per_epoch\u001b[0m\u001b[0;34m=\u001b[0m\u001b[0msteps_per_epoch\u001b[0m\u001b[0;34m,\u001b[0m\u001b[0;34m\u001b[0m\u001b[0m\n\u001b[1;32m   1177\u001b[0m                                         \u001b[0mvalidation_steps\u001b[0m\u001b[0;34m=\u001b[0m\u001b[0mvalidation_steps\u001b[0m\u001b[0;34m,\u001b[0m\u001b[0;34m\u001b[0m\u001b[0m\n\u001b[0;32m-> 1178\u001b[0;31m                                         validation_freq=validation_freq)\n\u001b[0m\u001b[1;32m   1179\u001b[0m \u001b[0;34m\u001b[0m\u001b[0m\n\u001b[1;32m   1180\u001b[0m     def evaluate(self,\n",
      "\u001b[0;32m~/.pyenv/versions/3.6.5/envs/fraud/lib/python3.6/site-packages/keras/engine/training_arrays.py\u001b[0m in \u001b[0;36mfit_loop\u001b[0;34m(model, fit_function, fit_inputs, out_labels, batch_size, epochs, verbose, callbacks, val_function, val_inputs, shuffle, callback_metrics, initial_epoch, steps_per_epoch, validation_steps, validation_freq)\u001b[0m\n\u001b[1;32m    216\u001b[0m                                          \u001b[0mbatch_size\u001b[0m\u001b[0;34m=\u001b[0m\u001b[0mbatch_size\u001b[0m\u001b[0;34m,\u001b[0m\u001b[0;34m\u001b[0m\u001b[0m\n\u001b[1;32m    217\u001b[0m                                          \u001b[0mcallbacks\u001b[0m\u001b[0;34m=\u001b[0m\u001b[0mcallbacks\u001b[0m\u001b[0;34m,\u001b[0m\u001b[0;34m\u001b[0m\u001b[0m\n\u001b[0;32m--> 218\u001b[0;31m                                          verbose=0)\n\u001b[0m\u001b[1;32m    219\u001b[0m                     \u001b[0mval_outs\u001b[0m \u001b[0;34m=\u001b[0m \u001b[0mto_list\u001b[0m\u001b[0;34m(\u001b[0m\u001b[0mval_outs\u001b[0m\u001b[0;34m)\u001b[0m\u001b[0;34m\u001b[0m\u001b[0m\n\u001b[1;32m    220\u001b[0m                     \u001b[0;31m# Same labels assumed.\u001b[0m\u001b[0;34m\u001b[0m\u001b[0;34m\u001b[0m\u001b[0m\n",
      "\u001b[0;32m~/.pyenv/versions/3.6.5/envs/fraud/lib/python3.6/site-packages/keras/engine/training_arrays.py\u001b[0m in \u001b[0;36mtest_loop\u001b[0;34m(model, f, ins, batch_size, verbose, steps, callbacks)\u001b[0m\n\u001b[1;32m    468\u001b[0m             \u001b[0mbatch_logs\u001b[0m \u001b[0;34m=\u001b[0m \u001b[0;34m{\u001b[0m\u001b[0;34m'batch'\u001b[0m\u001b[0;34m:\u001b[0m \u001b[0mbatch_index\u001b[0m\u001b[0;34m,\u001b[0m \u001b[0;34m'size'\u001b[0m\u001b[0;34m:\u001b[0m \u001b[0mlen\u001b[0m\u001b[0;34m(\u001b[0m\u001b[0mbatch_ids\u001b[0m\u001b[0;34m)\u001b[0m\u001b[0;34m}\u001b[0m\u001b[0;34m\u001b[0m\u001b[0m\n\u001b[1;32m    469\u001b[0m             \u001b[0mcallbacks\u001b[0m\u001b[0;34m.\u001b[0m\u001b[0m_call_batch_hook\u001b[0m\u001b[0;34m(\u001b[0m\u001b[0;34m'test'\u001b[0m\u001b[0;34m,\u001b[0m \u001b[0;34m'begin'\u001b[0m\u001b[0;34m,\u001b[0m \u001b[0mbatch_index\u001b[0m\u001b[0;34m,\u001b[0m \u001b[0mbatch_logs\u001b[0m\u001b[0;34m)\u001b[0m\u001b[0;34m\u001b[0m\u001b[0m\n\u001b[0;32m--> 470\u001b[0;31m             \u001b[0mbatch_outs\u001b[0m \u001b[0;34m=\u001b[0m \u001b[0mf\u001b[0m\u001b[0;34m(\u001b[0m\u001b[0mins_batch\u001b[0m\u001b[0;34m)\u001b[0m\u001b[0;34m\u001b[0m\u001b[0m\n\u001b[0m\u001b[1;32m    471\u001b[0m             \u001b[0;32mif\u001b[0m \u001b[0misinstance\u001b[0m\u001b[0;34m(\u001b[0m\u001b[0mbatch_outs\u001b[0m\u001b[0;34m,\u001b[0m \u001b[0mlist\u001b[0m\u001b[0;34m)\u001b[0m\u001b[0;34m:\u001b[0m\u001b[0;34m\u001b[0m\u001b[0m\n\u001b[1;32m    472\u001b[0m                 \u001b[0;32mif\u001b[0m \u001b[0mbatch_index\u001b[0m \u001b[0;34m==\u001b[0m \u001b[0;36m0\u001b[0m\u001b[0;34m:\u001b[0m\u001b[0;34m\u001b[0m\u001b[0m\n",
      "\u001b[0;32m~/.pyenv/versions/3.6.5/envs/fraud/lib/python3.6/site-packages/keras/backend/tensorflow_backend.py\u001b[0m in \u001b[0;36m__call__\u001b[0;34m(self, inputs)\u001b[0m\n\u001b[1;32m   2977\u001b[0m                     \u001b[0;32mreturn\u001b[0m \u001b[0mself\u001b[0m\u001b[0;34m.\u001b[0m\u001b[0m_legacy_call\u001b[0m\u001b[0;34m(\u001b[0m\u001b[0minputs\u001b[0m\u001b[0;34m)\u001b[0m\u001b[0;34m\u001b[0m\u001b[0m\n\u001b[1;32m   2978\u001b[0m \u001b[0;34m\u001b[0m\u001b[0m\n\u001b[0;32m-> 2979\u001b[0;31m             \u001b[0;32mreturn\u001b[0m \u001b[0mself\u001b[0m\u001b[0;34m.\u001b[0m\u001b[0m_call\u001b[0m\u001b[0;34m(\u001b[0m\u001b[0minputs\u001b[0m\u001b[0;34m)\u001b[0m\u001b[0;34m\u001b[0m\u001b[0m\n\u001b[0m\u001b[1;32m   2980\u001b[0m         \u001b[0;32melse\u001b[0m\u001b[0;34m:\u001b[0m\u001b[0;34m\u001b[0m\u001b[0m\n\u001b[1;32m   2981\u001b[0m             \u001b[0;32mif\u001b[0m \u001b[0mpy_any\u001b[0m\u001b[0;34m(\u001b[0m\u001b[0mis_tensor\u001b[0m\u001b[0;34m(\u001b[0m\u001b[0mx\u001b[0m\u001b[0;34m)\u001b[0m \u001b[0;32mfor\u001b[0m \u001b[0mx\u001b[0m \u001b[0;32min\u001b[0m \u001b[0minputs\u001b[0m\u001b[0;34m)\u001b[0m\u001b[0;34m:\u001b[0m\u001b[0;34m\u001b[0m\u001b[0m\n",
      "\u001b[0;32m~/.pyenv/versions/3.6.5/envs/fraud/lib/python3.6/site-packages/keras/backend/tensorflow_backend.py\u001b[0m in \u001b[0;36m_call\u001b[0;34m(self, inputs)\u001b[0m\n\u001b[1;32m   2935\u001b[0m             \u001b[0mfetched\u001b[0m \u001b[0;34m=\u001b[0m \u001b[0mself\u001b[0m\u001b[0;34m.\u001b[0m\u001b[0m_callable_fn\u001b[0m\u001b[0;34m(\u001b[0m\u001b[0;34m*\u001b[0m\u001b[0marray_vals\u001b[0m\u001b[0;34m,\u001b[0m \u001b[0mrun_metadata\u001b[0m\u001b[0;34m=\u001b[0m\u001b[0mself\u001b[0m\u001b[0;34m.\u001b[0m\u001b[0mrun_metadata\u001b[0m\u001b[0;34m)\u001b[0m\u001b[0;34m\u001b[0m\u001b[0m\n\u001b[1;32m   2936\u001b[0m         \u001b[0;32melse\u001b[0m\u001b[0;34m:\u001b[0m\u001b[0;34m\u001b[0m\u001b[0m\n\u001b[0;32m-> 2937\u001b[0;31m             \u001b[0mfetched\u001b[0m \u001b[0;34m=\u001b[0m \u001b[0mself\u001b[0m\u001b[0;34m.\u001b[0m\u001b[0m_callable_fn\u001b[0m\u001b[0;34m(\u001b[0m\u001b[0;34m*\u001b[0m\u001b[0marray_vals\u001b[0m\u001b[0;34m)\u001b[0m\u001b[0;34m\u001b[0m\u001b[0m\n\u001b[0m\u001b[1;32m   2938\u001b[0m         \u001b[0;32mreturn\u001b[0m \u001b[0mfetched\u001b[0m\u001b[0;34m[\u001b[0m\u001b[0;34m:\u001b[0m\u001b[0mlen\u001b[0m\u001b[0;34m(\u001b[0m\u001b[0mself\u001b[0m\u001b[0;34m.\u001b[0m\u001b[0moutputs\u001b[0m\u001b[0;34m)\u001b[0m\u001b[0;34m]\u001b[0m\u001b[0;34m\u001b[0m\u001b[0m\n\u001b[1;32m   2939\u001b[0m \u001b[0;34m\u001b[0m\u001b[0m\n",
      "\u001b[0;32m~/.pyenv/versions/3.6.5/envs/fraud/lib/python3.6/site-packages/tensorflow/python/client/session.py\u001b[0m in \u001b[0;36m__call__\u001b[0;34m(self, *args, **kwargs)\u001b[0m\n\u001b[1;32m   1456\u001b[0m         ret = tf_session.TF_SessionRunCallable(self._session._session,\n\u001b[1;32m   1457\u001b[0m                                                \u001b[0mself\u001b[0m\u001b[0;34m.\u001b[0m\u001b[0m_handle\u001b[0m\u001b[0;34m,\u001b[0m \u001b[0margs\u001b[0m\u001b[0;34m,\u001b[0m\u001b[0;34m\u001b[0m\u001b[0m\n\u001b[0;32m-> 1458\u001b[0;31m                                                run_metadata_ptr)\n\u001b[0m\u001b[1;32m   1459\u001b[0m         \u001b[0;32mif\u001b[0m \u001b[0mrun_metadata\u001b[0m\u001b[0;34m:\u001b[0m\u001b[0;34m\u001b[0m\u001b[0m\n\u001b[1;32m   1460\u001b[0m           \u001b[0mproto_data\u001b[0m \u001b[0;34m=\u001b[0m \u001b[0mtf_session\u001b[0m\u001b[0;34m.\u001b[0m\u001b[0mTF_GetBuffer\u001b[0m\u001b[0;34m(\u001b[0m\u001b[0mrun_metadata_ptr\u001b[0m\u001b[0;34m)\u001b[0m\u001b[0;34m\u001b[0m\u001b[0m\n",
      "\u001b[0;31mKeyboardInterrupt\u001b[0m: "
     ]
    }
   ],
   "source": [
    "batch_size = 64\n",
    "# model.fit([x_train_], y_train_,\n",
    "#           batch_size=batch_size,\n",
    "#           epochs=5,\n",
    "#           validation_data=(x_test_, y_test_)\n",
    "#          )\n",
    "model.fit({'main_input': x_train, \n",
    "           'main_input_2': x_train_2,\n",
    "          },\n",
    "          {'main_output': y_train, \n",
    "           #'aux_output': additional_labels\n",
    "          },\n",
    "          epochs=10, batch_size=32, validation_split = 0.2)"
   ]
  },
  {
   "cell_type": "markdown",
   "metadata": {},
   "source": [
    "# train"
   ]
  },
  {
   "cell_type": "code",
   "execution_count": null,
   "metadata": {},
   "outputs": [],
   "source": [
    "# new_model = Model(model.inputs, model.get_layer(\"dense_three\").output)\n",
    "# hidden_out = new_model.predict({'main_input': x_train})\n",
    "# hidden_out.shape"
   ]
  },
  {
   "cell_type": "code",
   "execution_count": null,
   "metadata": {},
   "outputs": [],
   "source": [
    "# new_model = Model(model.inputs, model.get_layer(\"main_output\").output)\n",
    "# prediction = new_model.predict({'main_input': x_train})\n",
    "# prediction.shape"
   ]
  },
  {
   "cell_type": "code",
   "execution_count": null,
   "metadata": {},
   "outputs": [],
   "source": [
    "new_model = Model(model.inputs, model.get_layer(\"lstm_out\").output)\n",
    "lstm_out, state_h, state_c = new_model.predict({'main_input': x_train})\n",
    "lstm_out.shape"
   ]
  },
  {
   "cell_type": "code",
   "execution_count": null,
   "metadata": {},
   "outputs": [],
   "source": [
    "key_ = []\n",
    "lstm_features = []\n",
    "for key, lo in zip(txkey,lstm_out):\n",
    "    key_ls = key.split(\"_\")\n",
    "    actual_len = len(key_ls)\n",
    "    if actual_len <= 100:\n",
    "        features = lo[:actual_len]\n",
    "        for k,f in zip(key_ls,features):\n",
    "            key_.append(k)\n",
    "            lstm_features.append(f)\n",
    "            #print (k)\n",
    "            #print (f)\n",
    "    else:\n",
    "        c = 0\n",
    "        features = lo[:actual_len]\n",
    "        for k,f in zip(key_ls,features):\n",
    "            c+=1\n",
    "            key_.append(k)\n",
    "            lstm_features.append(f)\n",
    "            if c==100:\n",
    "                break\n",
    "        for k in key_ls[100:]:\n",
    "            key_.append(k)\n",
    "            lstm_features.append(f)"
   ]
  },
  {
   "cell_type": "code",
   "execution_count": null,
   "metadata": {},
   "outputs": [],
   "source": [
    "no_components = 10\n",
    "lstm_features = pd.DataFrame(\n",
    "    lstm_features,\n",
    "    columns = [\"{}_latent_features_{}\".format(\"lstm\",i) for i in range(no_components)]\n",
    "                            )\n",
    "lstm_features"
   ]
  },
  {
   "cell_type": "code",
   "execution_count": null,
   "metadata": {},
   "outputs": [],
   "source": [
    "output = pd.concat(\n",
    "    [pd.DataFrame(key_,columns = [\"txkey\"]),\n",
    "     lstm_features\n",
    "    ],\n",
    "    axis = 1\n",
    ")\n",
    "output"
   ]
  },
  {
   "cell_type": "markdown",
   "metadata": {},
   "source": [
    "# test"
   ]
  },
  {
   "cell_type": "code",
   "execution_count": null,
   "metadata": {},
   "outputs": [],
   "source": [
    "new_model = Model(model.inputs, model.get_layer(\"lstm_out\").output)\n",
    "lstm_out, state_h, state_c = new_model.predict({'main_input': x_test})\n",
    "print (lstm_out.shape)\n",
    "\n",
    "key_ = []\n",
    "lstm_features = []\n",
    "a = 0\n",
    "for key, lo in zip(txkey_test,lstm_out):\n",
    "    key_ls = key.split(\"_\")\n",
    "    actual_len = len(key_ls)\n",
    "    a+=actual_len\n",
    "    if actual_len <= 100:\n",
    "        features = lo[:actual_len]\n",
    "        for k,f in zip(key_ls,features):\n",
    "            key_.append(k)\n",
    "            lstm_features.append(f)\n",
    "            #print (k)\n",
    "            #print (f)\n",
    "    else:\n",
    "        c = 0\n",
    "        features = lo[:actual_len]\n",
    "        for k,f in zip(key_ls,features):\n",
    "            key_.append(k)\n",
    "            lstm_features.append(f)\n",
    "            c+=1\n",
    "            if c==100:\n",
    "                break\n",
    "        for k in key_ls[100:]:\n",
    "            key_.append(k)\n",
    "            lstm_features.append(f)\n",
    "\n",
    "no_components = 10\n",
    "lstm_features = pd.DataFrame(\n",
    "    lstm_features,\n",
    "    columns = [\"{}_latent_features_{}\".format(\"lstm\",i) for i in range(no_components)]\n",
    "                            )\n",
    "print (lstm_features.shape)\n",
    "\n",
    "output_test = pd.concat(\n",
    "    [pd.DataFrame(key_,columns = [\"txkey\"]),\n",
    "     lstm_features\n",
    "    ],\n",
    "    axis = 1\n",
    ")\n",
    "output_test.shape"
   ]
  },
  {
   "cell_type": "code",
   "execution_count": null,
   "metadata": {},
   "outputs": [],
   "source": [
    "output_test.lstm_latent_features_0.value_counts()"
   ]
  },
  {
   "cell_type": "code",
   "execution_count": null,
   "metadata": {},
   "outputs": [],
   "source": [
    "df_train.txkey.nunique()"
   ]
  },
  {
   "cell_type": "code",
   "execution_count": null,
   "metadata": {},
   "outputs": [],
   "source": [
    "df_test.txkey.nunique()"
   ]
  },
  {
   "cell_type": "code",
   "execution_count": null,
   "metadata": {},
   "outputs": [],
   "source": [
    "df = pd.concat([\n",
    "    output,\n",
    "    output_test\n",
    "], axis= 0)\n",
    "df.shape"
   ]
  },
  {
   "cell_type": "code",
   "execution_count": null,
   "metadata": {},
   "outputs": [],
   "source": [
    "df.to_csv(\"../fraud_detection/features/lstm_features.csv\", index = False)"
   ]
  },
  {
   "cell_type": "code",
   "execution_count": null,
   "metadata": {},
   "outputs": [],
   "source": []
  }
 ],
 "metadata": {
  "kernelspec": {
   "display_name": "Python 3",
   "language": "python",
   "name": "python3"
  },
  "language_info": {
   "codemirror_mode": {
    "name": "ipython",
    "version": 3
   },
   "file_extension": ".py",
   "mimetype": "text/x-python",
   "name": "python",
   "nbconvert_exporter": "python",
   "pygments_lexer": "ipython3",
   "version": "3.6.5"
  }
 },
 "nbformat": 4,
 "nbformat_minor": 2
}
