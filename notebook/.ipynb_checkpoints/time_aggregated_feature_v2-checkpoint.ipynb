{
 "cells": [
  {
   "cell_type": "code",
   "execution_count": null,
   "metadata": {},
   "outputs": [],
   "source": [
    "import numpy as np\n",
    "import pandas as pd\n",
    "pd.options.display.max_columns = 100\n",
    "import sys\n",
    "sys.path.append(\"../fraud_detection/src/\")\n",
    "\n",
    "from util import s_to_time_format, string_to_datetime,hour_to_range\n",
    "from tqdm import tqdm\n",
    "\n",
    "#-----------------------------\n",
    "# load data\n",
    "#-----------------------------\n",
    "df_train = pd.read_csv(\"/data/yunrui_li/fraud/dataset/train.csv\")\n",
    "df_test = pd.read_csv(\"/data/yunrui_li/fraud/dataset/test.csv\")\n",
    "\n",
    "\n",
    "for df in [df_train, df_test]:\n",
    "    # pre-processing\n",
    "    df[\"loctm_\"] = df.loctm.astype(int).astype(str)\n",
    "    df.loctm_ = df.loctm_.apply(s_to_time_format).apply(string_to_datetime)\n",
    "    # time-related feature\n",
    "    df[\"loctm_hour_of_day\"] = df.loctm_.apply(lambda x: x.hour)\n",
    "    df[\"loctm_minute_of_hour\"] = df.loctm_.apply(lambda x: x.minute)\n",
    "    df[\"loctm_second_of_min\"] = df.loctm_.apply(lambda x: x.second)\n",
    "\n",
    "    # removed the columns no need\n",
    "    df.drop(columns = [\"loctm_\"], axis = 1, inplace = True)\n"
   ]
  },
  {
   "cell_type": "code",
   "execution_count": null,
   "metadata": {},
   "outputs": [],
   "source": [
    "def merge_and_split_dfs(df_train, df_test):\n",
    "    len_train = len(df_train)\n",
    "    df = pd.concat([df_train, df_test]).reset_index()\n",
    "\n",
    "    def split_df(df):\n",
    "        df = df.drop(['index'], axis=1)\n",
    "        return df.iloc[:len_train], df.iloc[len_train:].drop(['fraud_ind'], axis=1)\n",
    "    return df, split_df\n",
    "\n",
    "\n",
    "def get_conam_dict_by_day(df, gby = \"cano\"):\n",
    "    dt_dict = defaultdict(lambda: defaultdict(lambda : 0))\n",
    "    for index, row in df.iterrows():\n",
    "        dt_dict[row['cano']][row['locdt']] += row['conam']\n",
    "\n",
    "    return dt_dict\n",
    "\n",
    "def _get_last_x_day_conam(cano, locdt, days_back, dt_dict):\n",
    "    return mean(dict(filter(lambda dt: dt[0]<=locdt and locdt -dt[0] <=days_back, dt_dict.items())).values())\n",
    "\n",
    "def last_x_day_conam(days_back, df, cano_dict):\n",
    "    return df[['cano', 'locdt']].apply(lambda row: _get_last_x_day_conam(row['cano'], row['locdt'], days_back, cano_dict[row['cano']]), axis=1)\n"
   ]
  },
  {
   "cell_type": "code",
   "execution_count": null,
   "metadata": {},
   "outputs": [],
   "source": [
    "y_train = df_train['fraud_ind']\n",
    "x_train = df_train.iloc[:1000]\n",
    "\n",
    "\n",
    "del df_train\n",
    "\n",
    "df, split_df = merge_and_split_dfs(x_train, df_test)\n",
    "\n",
    "conam_dict = get_conam_dict_by_day(df)\n",
    "\n"
   ]
  }
 ],
 "metadata": {
  "kernelspec": {
   "display_name": "Python 3",
   "language": "python",
   "name": "python3"
  },
  "language_info": {
   "codemirror_mode": {
    "name": "ipython",
    "version": 3
   },
   "file_extension": ".py",
   "mimetype": "text/x-python",
   "name": "python",
   "nbconvert_exporter": "python",
   "pygments_lexer": "ipython3",
   "version": "3.6.5"
  }
 },
 "nbformat": 4,
 "nbformat_minor": 2
}
