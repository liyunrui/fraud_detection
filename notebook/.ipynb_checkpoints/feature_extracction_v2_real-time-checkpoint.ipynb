{
 "cells": [
  {
   "cell_type": "code",
   "execution_count": 1,
   "metadata": {},
   "outputs": [],
   "source": [
    "import numpy as np\n",
    "import pandas as pd\n",
    "import sys\n",
    "sys.path.append(\"../fraud_detection/src/\")\n",
    "\n",
    "from util import s_to_time_format, string_to_datetime,hour_to_range\n",
    "from tqdm import tqdm\n",
    "\n",
    "#-----------------------------\n",
    "# load data\n",
    "#-----------------------------\n",
    "df_train = pd.read_csv(\"/data/yunrui_li/fraud/dataset/train.csv\")\n",
    "df_test = pd.read_csv(\"/data/yunrui_li/fraud/dataset/test.csv\")\n",
    "\n",
    "\n",
    "for df in [df_train, df_test]:\n",
    "    # pre-processing\n",
    "    df[\"loctm_\"] = df.loctm.astype(int).astype(str)\n",
    "    df.loctm_ = df.loctm_.apply(s_to_time_format).apply(string_to_datetime)\n",
    "    # time-related feature\n",
    "    df[\"loctm_hour_of_day\"] = df.loctm_.apply(lambda x: x.hour)\n",
    "    df[\"loctm_minute_of_hour\"] = df.loctm_.apply(lambda x: x.minute)\n",
    "    df[\"loctm_second_of_min\"] = df.loctm_.apply(lambda x: x.second)\n",
    "\n",
    "    # removed the columns no need\n",
    "    df.drop(columns = [\"loctm_\", \"loctm\",\"txkey\"], axis = 1, inplace = True)\n"
   ]
  },
  {
   "cell_type": "code",
   "execution_count": 3,
   "metadata": {},
   "outputs": [],
   "source": [
    "from tqdm import tqdm"
   ]
  },
  {
   "cell_type": "code",
   "execution_count": null,
   "metadata": {},
   "outputs": [
    {
     "name": "stderr",
     "output_type": "stream",
     "text": [
      "/ldap_home/yunrui.li/.pyenv/versions/3.6.5/envs/fraud/lib/python3.6/site-packages/ipykernel_launcher.py:9: FutureWarning: Sorting because non-concatenation axis is not aligned. A future version\n",
      "of pandas will change to not sort by default.\n",
      "\n",
      "To accept the future behavior, pass 'sort=False'.\n",
      "\n",
      "To retain the current behavior and silence the warning, pass 'sort=True'.\n",
      "\n",
      "  if __name__ == '__main__':\n",
      "\n",
      "\n",
      "  0%|          | 0/10 [00:00<?, ?it/s]\u001b[A\u001b[A"
     ]
    },
    {
     "name": "stdout",
     "output_type": "stream",
     "text": [
      "0\n"
     ]
    },
    {
     "name": "stderr",
     "output_type": "stream",
     "text": [
      "\n",
      "\n",
      " 10%|█         | 1/10 [02:57<26:37, 177.47s/it]\u001b[A\u001b[A"
     ]
    },
    {
     "name": "stdout",
     "output_type": "stream",
     "text": [
      "1\n"
     ]
    },
    {
     "name": "stderr",
     "output_type": "stream",
     "text": [
      "\n",
      "\n",
      " 20%|██        | 2/10 [04:25<20:04, 150.58s/it]\u001b[A\u001b[A"
     ]
    },
    {
     "name": "stdout",
     "output_type": "stream",
     "text": [
      "2\n"
     ]
    },
    {
     "name": "stderr",
     "output_type": "stream",
     "text": [
      "\n",
      "\n",
      " 30%|███       | 3/10 [04:30<12:29, 107.06s/it]\u001b[A\u001b[A"
     ]
    },
    {
     "name": "stdout",
     "output_type": "stream",
     "text": [
      "3\n"
     ]
    },
    {
     "name": "stderr",
     "output_type": "stream",
     "text": [
      "\n",
      "\n",
      " 40%|████      | 4/10 [04:31<07:30, 75.09s/it] \u001b[A\u001b[A"
     ]
    },
    {
     "name": "stdout",
     "output_type": "stream",
     "text": [
      "4\n",
      "5\n"
     ]
    }
   ],
   "source": [
    "feature = []\n",
    "for gby in [\n",
    "#     \"bacno\",\n",
    "#     \"mcc\",\n",
    "    \"mchno\",\n",
    "    \"hcefg\",\n",
    "    \"contp\",\n",
    "    \"etymd\"\n",
    "]:\n",
    "    df = pd.concat([df_train, df_test], axis = 0)\n",
    "    df.sort_values(by = [gby,\"locdt\"], inplace = True)\n",
    "    #df = df.head(1000)\n",
    "    for n in [7,14]:\n",
    "        for method in [\"min\",\"max\",\"mean\",\"std\",\"median\"]:\n",
    "            cols = \"average_{}_{}_conam_in_past_{}_days\".format(gby,method,n)\n",
    "            ans = []\n",
    "            key = []\n",
    "            for _,x in tqdm(df[[gby,\"locdt\",\"conam\"]].groupby(gby)):\n",
    "                print (_)\n",
    "                current_day_at_this_transaction = x.locdt.tolist()\n",
    "                time_interval = [(current_date-n,current_date) for current_date in current_day_at_this_transaction]\n",
    "                out = []\n",
    "                check_if_exist = []\n",
    "                for s,e in time_interval:\n",
    "                    tmp = x[(x.locdt < e) & (x.locdt >= s)]\n",
    "                    if len(tmp)!=0:\n",
    "                        if check_if_exist == tmp.index.tolist():\n",
    "                            pass\n",
    "                        else:\n",
    "                            if method == \"mean\":\n",
    "                                out.append(tmp.conam.mean())\n",
    "                            elif method == \"sum\":\n",
    "                                out.append(tmp.conam.sum())\n",
    "                            elif method == \"max\":\n",
    "                                out.append(tmp.conam.max())\n",
    "                            elif method == \"min\":\n",
    "                                out.append(tmp.conam.min())\n",
    "                            elif method == \"std\":\n",
    "                                out.append(tmp.conam.std())\n",
    "                            elif method == \"median\":\n",
    "                                out.append(tmp.conam.median())\n",
    "                            else:\n",
    "                                raise ValueError(\"this method {} we don't support\".format(method))\n",
    "                            check_if_exist = tmp.index.tolist()\n",
    "                if len(out) == 0:\n",
    "                    ans.append(0.0)\n",
    "                else:\n",
    "                    ans.append(1.0* sum(out)/len(out))\n",
    "\n",
    "                key.append(_)\n",
    "            tmp_ = pd.DataFrame({gby:key,cols:ans})\n",
    "            print (df[gby].nunique()==len(tmp_))\n",
    "            tmp_.to_csv(\"../fraud_detection/features/{}.csv\".format(cols), index = False)\n",
    "            print (cols)\n",
    "            feature.append((cols,tmp_))"
   ]
  },
  {
   "cell_type": "code",
   "execution_count": null,
   "metadata": {},
   "outputs": [],
   "source": []
  }
 ],
 "metadata": {
  "kernelspec": {
   "display_name": "Python 3",
   "language": "python",
   "name": "python3"
  },
  "language_info": {
   "codemirror_mode": {
    "name": "ipython",
    "version": 3
   },
   "file_extension": ".py",
   "mimetype": "text/x-python",
   "name": "python",
   "nbconvert_exporter": "python",
   "pygments_lexer": "ipython3",
   "version": "3.6.5"
  }
 },
 "nbformat": 4,
 "nbformat_minor": 2
}
